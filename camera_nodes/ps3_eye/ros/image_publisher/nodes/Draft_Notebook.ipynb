{
 "cells": [
  {
   "cell_type": "code",
   "execution_count": 27,
   "metadata": {},
   "outputs": [],
   "source": [
    "#!/usr/bin/env python3\n",
    "from __future__ import print_function\n",
    "import cv2\n",
    "import os\n",
    "from subprocess import call\n",
    "import subprocess\n",
    "import threading\n",
    "import time\n"
   ]
  },
  {
   "cell_type": "code",
   "execution_count": 18,
   "metadata": {},
   "outputs": [],
   "source": [
    "class directoryLoop():\n",
    "    def __init__(self,root,fps=10,ipm=None,replay=False):\n",
    "        self.root=root\n",
    "        self.replay=replay\n",
    "        self.ipm=ipm\n",
    "        self.img_files=os.listdir(self.root)\n",
    "        self.img_files.sort()\n",
    "        self.sleep_time=1/fps;\n",
    "        self.kill=False\n",
    "    \n",
    "    def loop(self):\n",
    "        while self.kill is not True:\n",
    "            for img_name in self.img_files:\n",
    "                file_path=os.path.join(self.root,img_name)\n",
    "                if os.path.isfile(file_path):\n",
    "                    frame = cv2.imread(file_path)\n",
    "                    if self.ipm is not None:\n",
    "                        self.ipm.img_publish(frame)\n",
    "                    else:\n",
    "                        print(f'File {img_name} captured')\n",
    "            time.sleep(self.sleep_time)\n",
    "            if replay==False:\n",
    "                break;"
   ]
  },
  {
   "cell_type": "code",
   "execution_count": 19,
   "metadata": {},
   "outputs": [],
   "source": [
    "root='/media/rouholla/My Passport/Dataset/Kitti/Odometry/dataset/sequences/00/image_2'\n",
    "directory_loop=directoryLoop(root)"
   ]
  },
  {
   "cell_type": "code",
   "execution_count": 36,
   "metadata": {},
   "outputs": [],
   "source": [
    "class imgPubliherMachine():\n",
    "    def __init__(self,params, img_topic=\"camera/image_raw\",camera_info_topic=\"camera/cameraInfo\"):\n",
    "        self.params=params\n",
    "        self.transform=params['~img_transforms'].split(',')\n",
    "        self.pub = rospy.Publisher(camera_info_topic,CameraInfo,queue_size=1)\n",
    "        self.pub_Image = rospy.Publisher(img_topic,Image,queue_size=1)\n",
    "        self.image=Image()\n",
    "        self.bridge = CvBridge()\n",
    "        self.encoding = \"8UC3\"\n",
    "        calib_load=(True if params['~path_to_calib_file'] is not None else False)   \n",
    "        if calib_load:\n",
    "            camera_name, self.camera_info = readCalibration(params['~path_to_calib_file'])\n",
    "        else:\n",
    "            self.camera_info=CameraInfo()\n",
    "        self.tranform_fncs={'to_gray':self.img_prepare_gray}\n",
    "    \n",
    "    def to_gray(self,img):\n",
    "        self.encoding='mono8'\n",
    "        return cv2.cvtColor(img, cv2.COLOR_BGR2GRAY)\n",
    "            \n",
    "    def apply_transforms(self,img):\n",
    "        for transform in self.transforms:\n",
    "            img=self.tranform_fncs[transform](img)\n",
    "        return img\n",
    "        \n",
    "    def img_publish(self,img):\n",
    "        img=self.apply_transforms(img)\n",
    "        try:\n",
    "            self.image=self.bridge.cv2_to_imgmsg(img, encoding)\n",
    "            self.image.header.stamp=self.camera_info.header.stamp\n",
    "        except CvBridgeError as e:\n",
    "            print(e)\n",
    "        self.camera_info.header.stamp=rospy.Time.now()\n",
    "        self.pub.publish(self.camera_info)\n",
    "        self.pub_Image.publish(self.image)"
   ]
  },
  {
   "cell_type": "code",
   "execution_count": null,
   "metadata": {},
   "outputs": [],
   "source": []
  }
 ],
 "metadata": {
  "kernelspec": {
   "display_name": "Python 3",
   "language": "python",
   "name": "python3"
  },
  "language_info": {
   "codemirror_mode": {
    "name": "ipython",
    "version": 3
   },
   "file_extension": ".py",
   "mimetype": "text/x-python",
   "name": "python",
   "nbconvert_exporter": "python",
   "pygments_lexer": "ipython3",
   "version": "3.6.12"
  }
 },
 "nbformat": 4,
 "nbformat_minor": 4
}
