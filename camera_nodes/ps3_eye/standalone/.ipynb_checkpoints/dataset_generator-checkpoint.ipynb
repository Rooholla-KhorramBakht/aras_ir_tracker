{
 "cells": [
  {
   "cell_type": "code",
   "execution_count": 1,
   "metadata": {},
   "outputs": [],
   "source": [
    "from pyclustering.cluster.bsas import bsas\n",
    "import numpy as np\n",
    "import matplotlib.pyplot as plt\n",
    "import cv2\n",
    "import pandas as pd\n",
    "import matplotlib.lines as mlines\n",
    "\n",
    "fig_size =[12,9]\n",
    "plt.rcParams[\"figure.figsize\"] = fig_size"
   ]
  },
  {
   "cell_type": "code",
   "execution_count": 2,
   "metadata": {},
   "outputs": [],
   "source": [
    "import cv2\n",
    "import numpy as np\n",
    "from pyclustering.cluster.bsas import bsas\n",
    "class markerExteractor(object):\n",
    "    def __init__(self):\n",
    "        self.max_clusters = 8\n",
    "        self.threshold = 20\n",
    "        self.blubParams = cv2.SimpleBlobDetector_Params()\n",
    "        self.blubParams.minThreshold = 50;\n",
    "        self.blubParams.maxThreshold = 255;\n",
    "        self.blubParams.filterByArea = True\n",
    "        self.blubParams.minArea = 0\n",
    "        self.blubParams.filterByCircularity = True\n",
    "        self.blubParams.minCircularity = 0.3\n",
    "        self.blubParams.filterByConvexity = True\n",
    "        self.blubParams.minConvexity = 0.7\n",
    "        self.blubParams.filterByInertia = True\n",
    "        self.blubParams.minInertiaRatio = 0.1\n",
    "        self.blubParams.blobColor = 255\n",
    "        ver = (cv2.__version__).split('.')\n",
    "        if int(ver[0]) < 3 :\n",
    "            self.blubDetector = cv2.SimpleBlobDetector(self.blubParams)\n",
    "        else : \n",
    "            self.blubDetector = cv2.SimpleBlobDetector_create(self.blubParams)\n",
    "    def detect(self,frame):\n",
    "        self.cms=[]\n",
    "        self.image_ROIs=[]\n",
    "        self.keypoints=[]\n",
    "        img_gray=cv2.cvtColor(frame, cv2.COLOR_BGR2GRAY)\n",
    "        ret,img_thresh = cv2.threshold(img_gray,100,255,cv2.THRESH_TOZERO)\n",
    "        #Find the clusters\n",
    "        self.nonzro_samples = cv2.findNonZero(img_thresh)\n",
    "        if self.nonzro_samples is None:\n",
    "            return None\n",
    "        else:\n",
    "            self.nonzro_samples=self.nonzro_samples.reshape(-1, 2).astype('float32')\n",
    "        bsas_instance = bsas(self.nonzro_samples, self.max_clusters, self.threshold)\n",
    "        bsas_instance.process()\n",
    "        clusters = bsas_instance.get_clusters()\n",
    "        #Calculate the center of the clusters and the Regions of Interests\n",
    "        self.ROIs=np.zeros((len(clusters),4))\n",
    "        for i,cluster in enumerate(clusters):\n",
    "            current_batch=self.nonzro_samples[cluster]\n",
    "            self.cms.append(np.sum(current_batch,axis=0)/current_batch.shape[0])\n",
    "            row_max=np.max(current_batch[:,1],axis=0)+6\n",
    "            row_min=np.min(current_batch[:,1],axis=0)-6\n",
    "            col_max=np.max(current_batch[:,0],axis=0)+6\n",
    "            col_min=np.min(current_batch[:,0],axis=0)-6\n",
    "            self.ROIs[i,:]=[row_min,row_max,col_min,col_max]\n",
    "        for roi in self.ROIs.astype('int32'):\n",
    "            self.image_ROIs.append(img_thresh.copy()[roi[0]:roi[1],roi[2]:roi[3]])\n",
    "        #Return The Results\n",
    "        marker_points=[]\n",
    "        for i,roi in enumerate(self.image_ROIs):\n",
    "            keys_in_roi=self.blubDetector.detect(roi)\n",
    "            for key in keys_in_roi:\n",
    "                #Calculate the global coordinate of marker points. The points are returned in (X(Col),Y(Row)) coordinate. \n",
    "                marker_points.append([key.pt[0]+self.ROIs.astype('float32')[i,2],key.pt[1]+self.ROIs.astype('float32')[i,0]])\n",
    "        return np.array(marker_points)"
   ]
  },
  {
   "cell_type": "code",
   "execution_count": 5,
   "metadata": {},
   "outputs": [],
   "source": [
    "import yaml\n",
    "class undistrodMarkers:\n",
    "    def __init__(self,config_file_name):\n",
    "        with open(config_file_name, 'r') as f:\n",
    "            calib = yaml.safe_load(f.read())\n",
    "        self.K = np.array(calib['camera_matrix']['data']).reshape(calib['camera_matrix']['rows'],calib['camera_matrix']['cols'])\n",
    "        self.D = np.array(calib['distortion_coefficients']['data']).reshape(-1, 5)\n",
    "        #self.P = np.array(calib['projection_matrix']['data']).reshape(3, 4)\n",
    "        #elf.R = np.array(calib['rectification_matrix']['data']).reshape(3, 3)\n",
    "        self.img_width = calib['image_width']\n",
    "        self.img_height = calib['image_height']\n",
    "    def process(self,points):\n",
    "        lpts_ud=cv2.undistortPoints(points.reshape(-1,1,2).astype(np.float32), self.K, self.D,P=self.K)\n",
    "        return cv2.convertPointsToHomogeneous(np.float32(lpts_ud))\n",
    "\n",
    "leftUndist = undistrodMarkers('left.yml')\n",
    "rightUndist = undistrodMarkers('right.yml')"
   ]
  },
  {
   "cell_type": "code",
   "execution_count": 373,
   "metadata": {},
   "outputs": [],
   "source": [
    "import scipy.io\n",
    "\n",
    "class undistrodMarkers:\n",
    "    def __init__(self,config_file_name):\n",
    "        mat = scipy.io.loadmat(config_file_name)\n",
    "        self.K = mat['K'].reshape(3,3)\n",
    "        self.D = mat['D'].reshape(-1, 5)\n",
    "    def process(self,points):\n",
    "        lpts_ud=cv2.undistortPoints(points.reshape(-1,1,2).astype(np.float32),cameraMatrix=self.K, distCoeffs=self.D,P=self.K)\n",
    "        return cv2.convertPointsToHomogeneous(np.float32(lpts_ud))\n",
    "\n",
    "leftUndist = undistrodMarkers('left_int.mat')\n",
    "rightUndist = undistrodMarkers('right_int.mat')"
   ]
  },
  {
   "cell_type": "code",
   "execution_count": 59,
   "metadata": {},
   "outputs": [
    {
     "ename": "error",
     "evalue": "OpenCV(4.1.2) /io/opencv/modules/imgproc/src/color.cpp:182: error: (-215:Assertion failed) !_src.empty() in function 'cvtColor'\n",
     "output_type": "error",
     "traceback": [
      "\u001b[0;31m---------------------------------------------------------------------------\u001b[0m",
      "\u001b[0;31merror\u001b[0m                                     Traceback (most recent call last)",
      "\u001b[0;32m<ipython-input-59-5568741e25cf>\u001b[0m in \u001b[0;36m<module>\u001b[0;34m\u001b[0m\n\u001b[1;32m     14\u001b[0m     \u001b[0mret\u001b[0m\u001b[0;34m,\u001b[0m\u001b[0mimg2\u001b[0m\u001b[0;34m=\u001b[0m\u001b[0mcap2\u001b[0m\u001b[0;34m.\u001b[0m\u001b[0mread\u001b[0m\u001b[0;34m(\u001b[0m\u001b[0;34m)\u001b[0m\u001b[0;34m\u001b[0m\u001b[0;34m\u001b[0m\u001b[0m\n\u001b[1;32m     15\u001b[0m     \u001b[0mpoints1\u001b[0m\u001b[0;34m=\u001b[0m\u001b[0mmarkerExteractor_inst\u001b[0m\u001b[0;34m.\u001b[0m\u001b[0mdetect\u001b[0m\u001b[0;34m(\u001b[0m\u001b[0mimg1\u001b[0m\u001b[0;34m)\u001b[0m\u001b[0;34m\u001b[0m\u001b[0;34m\u001b[0m\u001b[0m\n\u001b[0;32m---> 16\u001b[0;31m     \u001b[0mpoints2\u001b[0m\u001b[0;34m=\u001b[0m\u001b[0mmarkerExteractor_inst\u001b[0m\u001b[0;34m.\u001b[0m\u001b[0mdetect\u001b[0m\u001b[0;34m(\u001b[0m\u001b[0mimg2\u001b[0m\u001b[0;34m)\u001b[0m\u001b[0;34m\u001b[0m\u001b[0;34m\u001b[0m\u001b[0m\n\u001b[0m\u001b[1;32m     17\u001b[0m     \u001b[0;32mif\u001b[0m \u001b[0mpoints1\u001b[0m \u001b[0;32mis\u001b[0m \u001b[0;32mnot\u001b[0m \u001b[0;32mNone\u001b[0m\u001b[0;34m:\u001b[0m\u001b[0;34m\u001b[0m\u001b[0;34m\u001b[0m\u001b[0m\n\u001b[1;32m     18\u001b[0m         \u001b[0;32mfor\u001b[0m \u001b[0mi\u001b[0m \u001b[0;32min\u001b[0m \u001b[0mrange\u001b[0m\u001b[0;34m(\u001b[0m\u001b[0mlen\u001b[0m\u001b[0;34m(\u001b[0m\u001b[0mpoints1\u001b[0m\u001b[0;34m)\u001b[0m\u001b[0;34m)\u001b[0m\u001b[0;34m:\u001b[0m\u001b[0;34m\u001b[0m\u001b[0;34m\u001b[0m\u001b[0m\n",
      "\u001b[0;32m<ipython-input-2-48d769ac8053>\u001b[0m in \u001b[0;36mdetect\u001b[0;34m(self, frame)\u001b[0m\n\u001b[1;32m     27\u001b[0m         \u001b[0mself\u001b[0m\u001b[0;34m.\u001b[0m\u001b[0mimage_ROIs\u001b[0m\u001b[0;34m=\u001b[0m\u001b[0;34m[\u001b[0m\u001b[0;34m]\u001b[0m\u001b[0;34m\u001b[0m\u001b[0;34m\u001b[0m\u001b[0m\n\u001b[1;32m     28\u001b[0m         \u001b[0mself\u001b[0m\u001b[0;34m.\u001b[0m\u001b[0mkeypoints\u001b[0m\u001b[0;34m=\u001b[0m\u001b[0;34m[\u001b[0m\u001b[0;34m]\u001b[0m\u001b[0;34m\u001b[0m\u001b[0;34m\u001b[0m\u001b[0m\n\u001b[0;32m---> 29\u001b[0;31m         \u001b[0mimg_gray\u001b[0m\u001b[0;34m=\u001b[0m\u001b[0mcv2\u001b[0m\u001b[0;34m.\u001b[0m\u001b[0mcvtColor\u001b[0m\u001b[0;34m(\u001b[0m\u001b[0mframe\u001b[0m\u001b[0;34m,\u001b[0m \u001b[0mcv2\u001b[0m\u001b[0;34m.\u001b[0m\u001b[0mCOLOR_BGR2GRAY\u001b[0m\u001b[0;34m)\u001b[0m\u001b[0;34m\u001b[0m\u001b[0;34m\u001b[0m\u001b[0m\n\u001b[0m\u001b[1;32m     30\u001b[0m         \u001b[0mret\u001b[0m\u001b[0;34m,\u001b[0m\u001b[0mimg_thresh\u001b[0m \u001b[0;34m=\u001b[0m \u001b[0mcv2\u001b[0m\u001b[0;34m.\u001b[0m\u001b[0mthreshold\u001b[0m\u001b[0;34m(\u001b[0m\u001b[0mimg_gray\u001b[0m\u001b[0;34m,\u001b[0m\u001b[0;36m100\u001b[0m\u001b[0;34m,\u001b[0m\u001b[0;36m255\u001b[0m\u001b[0;34m,\u001b[0m\u001b[0mcv2\u001b[0m\u001b[0;34m.\u001b[0m\u001b[0mTHRESH_TOZERO\u001b[0m\u001b[0;34m)\u001b[0m\u001b[0;34m\u001b[0m\u001b[0;34m\u001b[0m\u001b[0m\n\u001b[1;32m     31\u001b[0m         \u001b[0;31m#Find the clusters\u001b[0m\u001b[0;34m\u001b[0m\u001b[0;34m\u001b[0m\u001b[0;34m\u001b[0m\u001b[0m\n",
      "\u001b[0;31merror\u001b[0m: OpenCV(4.1.2) /io/opencv/modules/imgproc/src/color.cpp:182: error: (-215:Assertion failed) !_src.empty() in function 'cvtColor'\n"
     ]
    }
   ],
   "source": [
    "#Testing the algorithm with a stream of images\n",
    "markerExteractor_inst=markerExteractor()\n",
    "cap1=cv2.VideoCapture('Left_Video.mpg')\n",
    "cap2=cv2.VideoCapture('Right_Video.mpg')\n",
    "\n",
    "extracted_points1=[]\n",
    "extracted_points2=[]\n",
    "extracted_points1_raw=[]\n",
    "extracted_points2_raw=[]\n",
    "\n",
    "frame_counter=0;\n",
    "while cap1.isOpened():\n",
    "    ret,img1=cap1.read()\n",
    "    ret,img2=cap2.read()\n",
    "    points1=markerExteractor_inst.detect(img1)\n",
    "    points2=markerExteractor_inst.detect(img2)\n",
    "    if points1 is not None:\n",
    "        for i in range(len(points1)):\n",
    "            cv2.circle(img1,(int(round(points1[i,0])), int(round(points1[i,1]))), 2, (255,0,255), -1)\n",
    "            lud=leftUndist.process(points1)\n",
    "            extracted_points1.append(lud[0][0][0:2].reshape(1,2))\n",
    "            extracted_points1_raw.append(points1[0].reshape(1,2))\n",
    "    else:\n",
    "            extracted_points1.append(np.array([-1,-1],dtype='float32').reshape(1,2))\n",
    "            extracted_points1_raw.append(np.array([-1,-1],dtype='float32').reshape(1,2))\n",
    "\n",
    "    if points2 is not None:\n",
    "        for i in range(len(points2)):\n",
    "            cv2.circle(img2,(int(round(points2[i,0])), int(round(points2[i,1]))), 2, (255,0,255), -1)\n",
    "            rud=rightUndist.process(points2)\n",
    "            extracted_points2.append(rud[0][0][0:2].reshape(1,2))\n",
    "            extracted_points2_raw.append(points2[0].reshape(1,2))\n",
    "\n",
    "    else:\n",
    "            extracted_points2.append(np.array([-1,-1],dtype='float32').reshape(1,2))\n",
    "            extracted_points2_raw.append(np.array([-1,-1],dtype='float32').reshape(1,2))\n",
    "\n",
    "    cv2.imshow('Frame',img1)\n",
    "    if cv2.waitKey(1) & 0xFF == ord('q'):\n",
    "        break\n",
    "    if frame_counter>6000:\n",
    "        break\n",
    "    frame_counter=frame_counter+1\n",
    "cv2.destroyAllWindows()     \n",
    "cap1.release()\n",
    "cap2.release()"
   ]
  },
  {
   "cell_type": "code",
   "execution_count": 42,
   "metadata": {},
   "outputs": [
    {
     "data": {
      "text/plain": [
       "(6001, 2)"
      ]
     },
     "execution_count": 42,
     "metadata": {},
     "output_type": "execute_result"
    }
   ],
   "source": [
    "np.vstack(extracted_points2_raw).shape"
   ]
  },
  {
   "cell_type": "code",
   "execution_count": 60,
   "metadata": {},
   "outputs": [],
   "source": [
    "cv2.destroyAllWindows()     \n",
    "cap1.release()\n",
    "cap2.release()\n",
    "extracted_points2[1]\n",
    "extracted_points2=np.array(extracted_points2).reshape(-1,2)"
   ]
  },
  {
   "cell_type": "code",
   "execution_count": 61,
   "metadata": {
    "scrolled": true
   },
   "outputs": [
    {
     "data": {
      "image/png": "[encoded data removed]",
      "text/plain": [
       "<Figure size 432x288 with 1 Axes>"
      ]
     },
     "metadata": {
      "needs_background": "light"
     },
     "output_type": "display_data"
    }
   ],
   "source": [
    "extracted_points1=np.array(extracted_points1).reshape(-1,2)\n",
    "extracted_points2=np.array(extracted_points2).reshape(-1,2)\n",
    "extracted_points1_raw=np.vstack(extracted_points1_raw)\n",
    "extracted_points2_raw=np.vstack(extracted_points2_raw)\n",
    "\n",
    "max_index=5500\n",
    "extracted_points1n=extracted_points1[0:max_index,:]\n",
    "extracted_points2n=extracted_points2[0:max_index,:]\n",
    "np.hstack((extracted_points1n,extracted_points2n))\n",
    "df=pd.DataFrame(np.hstack((extracted_points2n,extracted_points1n)),columns=['right_cam_x', 'right_cam_y', 'left_cam_x', 'left_cam_y' ])\n",
    "plt.plot(extracted_points1n[:,0],extracted_points1n[:,1],'b.')\n",
    "plt.plot(extracted_points1_raw[:,0],extracted_points1_raw[:,1],'r*')\n",
    "\n",
    "plt.show()\n",
    "    "
   ]
  },
  {
   "cell_type": "code",
   "execution_count": 62,
   "metadata": {},
   "outputs": [
    {
     "data": {
      "text/plain": [
       "[<matplotlib.lines.Line2D at 0x7f6b8685e6d8>]"
      ]
     },
     "execution_count": 62,
     "metadata": {},
     "output_type": "execute_result"
    },
    {
     "data": {
      "image/png": "[encoded data removed]",
      "text/plain": [
       "<Figure size 432x288 with 1 Axes>"
      ]
     },
     "metadata": {
      "needs_background": "light"
     },
     "output_type": "display_data"
    }
   ],
   "source": [
    "plt.plot(extracted_points1[:,0])\n",
    "plt.plot(extracted_points1[:,1])\n",
    "#plt.axis([370,375,0,700])\n",
    "plt.plot(error)"
   ]
  },
  {
   "cell_type": "code",
   "execution_count": 63,
   "metadata": {},
   "outputs": [
    {
     "data": {
      "text/html": [
       "<div>\n",
       "<style scoped>\n",
       "    .dataframe tbody tr th:only-of-type {\n",
       "        vertical-align: middle;\n",
       "    }\n",
       "\n",
       "    .dataframe tbody tr th {\n",
       "        vertical-align: top;\n",
       "    }\n",
       "\n",
       "    .dataframe thead th {\n",
       "        text-align: right;\n",
       "    }\n",
       "</style>\n",
       "<table border=\"1\" class=\"dataframe\">\n",
       "  <thead>\n",
       "    <tr style=\"text-align: right;\">\n",
       "      <th></th>\n",
       "      <th>right_cam_x</th>\n",
       "      <th>right_cam_y</th>\n",
       "      <th>left_cam_x</th>\n",
       "      <th>left_cam_y</th>\n",
       "    </tr>\n",
       "  </thead>\n",
       "  <tbody>\n",
       "    <tr>\n",
       "      <th>5495</th>\n",
       "      <td>508.743805</td>\n",
       "      <td>327.483459</td>\n",
       "      <td>472.406525</td>\n",
       "      <td>373.263672</td>\n",
       "    </tr>\n",
       "    <tr>\n",
       "      <th>5496</th>\n",
       "      <td>508.754059</td>\n",
       "      <td>327.629120</td>\n",
       "      <td>472.479370</td>\n",
       "      <td>373.549835</td>\n",
       "    </tr>\n",
       "    <tr>\n",
       "      <th>5497</th>\n",
       "      <td>508.983856</td>\n",
       "      <td>328.071991</td>\n",
       "      <td>472.472717</td>\n",
       "      <td>373.617035</td>\n",
       "    </tr>\n",
       "    <tr>\n",
       "      <th>5498</th>\n",
       "      <td>508.746368</td>\n",
       "      <td>328.633820</td>\n",
       "      <td>472.288086</td>\n",
       "      <td>374.369293</td>\n",
       "    </tr>\n",
       "    <tr>\n",
       "      <th>5499</th>\n",
       "      <td>508.745361</td>\n",
       "      <td>328.634796</td>\n",
       "      <td>472.398254</td>\n",
       "      <td>374.543549</td>\n",
       "    </tr>\n",
       "  </tbody>\n",
       "</table>\n",
       "</div>"
      ],
      "text/plain": [
       "      right_cam_x  right_cam_y  left_cam_x  left_cam_y\n",
       "5495   508.743805   327.483459  472.406525  373.263672\n",
       "5496   508.754059   327.629120  472.479370  373.549835\n",
       "5497   508.983856   328.071991  472.472717  373.617035\n",
       "5498   508.746368   328.633820  472.288086  374.369293\n",
       "5499   508.745361   328.634796  472.398254  374.543549"
      ]
     },
     "execution_count": 63,
     "metadata": {},
     "output_type": "execute_result"
    }
   ],
   "source": [
    "df.tail()"
   ]
  },
  {
   "cell_type": "code",
   "execution_count": 64,
   "metadata": {},
   "outputs": [],
   "source": [
    "df.to_csv('ir_tracker_dual_camera.csv')"
   ]
  },
  {
   "cell_type": "code",
   "execution_count": 65,
   "metadata": {},
   "outputs": [],
   "source": [
    "def create_row(point2,point1):\n",
    "    u1=point1[0]\n",
    "    v1=point1[1]\n",
    "    u2=point2[0]\n",
    "    v2=point2[1]\n",
    "    line=np.array(\\\n",
    "    [u1*u2, u1*v2, u1, v1*u2, v1*v2, v1, u2, v2, 1]\\\n",
    "    ).reshape(1,9)\n",
    "    return line"
   ]
  },
  {
   "cell_type": "code",
   "execution_count": 66,
   "metadata": {},
   "outputs": [],
   "source": [
    "rows=[]\n",
    "for i in range(max_index):\n",
    "    if extracted_points1[i,0]!=-1 and extracted_points2[i,0].any()!=-1:\n",
    "        rows.append(create_row(extracted_points2[i,:],extracted_points1[i,:]))\n",
    "A=np.vstack(rows)"
   ]
  },
  {
   "cell_type": "code",
   "execution_count": 67,
   "metadata": {},
   "outputs": [],
   "source": [
    "u,s,v=np.linalg.svd(A)\n",
    "F=v.T[:,8].reshape(3,3).T"
   ]
  },
  {
   "cell_type": "code",
   "execution_count": 69,
   "metadata": {},
   "outputs": [],
   "source": [
    "u,s,v=np.linalg.svd(F)\n",
    "s[2]=0\n",
    "F=np.matmul(u * s, v)"
   ]
  },
  {
   "cell_type": "code",
   "execution_count": 70,
   "metadata": {},
   "outputs": [
    {
     "data": {
      "text/plain": [
       "array([[8.76145752e-05]])"
      ]
     },
     "execution_count": 70,
     "metadata": {},
     "output_type": "execute_result"
    }
   ],
   "source": [
    "idx=4100\n",
    "P1=np.hstack([extracted_points1[idx,:] , 1.0])\n",
    "P2=np.hstack([extracted_points2[idx,:] , 1.0])\n",
    "P1=P1.reshape(3,1)\n",
    "P2=P2.reshape(3,1)\n",
    "np.dot(np.dot(P2.T,F),P1)"
   ]
  },
  {
   "cell_type": "code",
   "execution_count": 71,
   "metadata": {},
   "outputs": [
    {
     "data": {
      "text/plain": [
       "[<matplotlib.lines.Line2D at 0x7f6b242c2cc0>]"
      ]
     },
     "execution_count": 71,
     "metadata": {},
     "output_type": "execute_result"
    },
    {
     "data": {
      "image/png": "[encoded data removed]",
      "text/plain": [
       "<Figure size 432x288 with 1 Axes>"
      ]
     },
     "metadata": {
      "needs_background": "light"
     },
     "output_type": "display_data"
    }
   ],
   "source": [
    "error=[]\n",
    "for i in range(max_index):\n",
    "    if extracted_points1[i,0]!=-1 and extracted_points2[i,0].any()!=-1:\n",
    "        P1=np.hstack([extracted_points1[i,:] , 1.0])\n",
    "        P2=np.hstack([extracted_points2[i,:] , 1.0])\n",
    "        P1=P1.reshape(3,1)\n",
    "        P2=P2.reshape(3,1)\n",
    "        error.append(np.dot(np.dot(P2.T,F),P1))\n",
    "error=np.array(error).reshape(-1)\n",
    "plt.plot(error)"
   ]
  },
  {
   "cell_type": "code",
   "execution_count": 76,
   "metadata": {},
   "outputs": [
    {
     "data": {
      "image/png": "[encoded data removed]",
      "text/plain": [
       "<Figure size 432x288 with 1 Axes>"
      ]
     },
     "metadata": {
      "needs_background": "light"
     },
     "output_type": "display_data"
    }
   ],
   "source": [
    "idx=1800\n",
    "P1=np.hstack([extracted_points1[idx,:] , 1.0])\n",
    "P2=np.hstack([extracted_points2[idx,:] , 1.0])\n",
    "\n",
    "epiLines = np.dot(F,P1);\n",
    "a=epiLines[0];\n",
    "b=epiLines[1];\n",
    "c=epiLines[2];\n",
    "\n",
    "x0=0;\n",
    "y0=-c/b;\n",
    "x1=640;\n",
    "y1=(-1/b)*(c+a*x1);\n",
    "ax = plt.gca()\n",
    "l = mlines.Line2D(list(np.hstack([x0,x1])), list(np.hstack([y0,y1])))\n",
    "ax.add_line(l)\n",
    "#plt.axis([-2, 2, -2, 2])\n",
    "plt.title('The epipolar line in the image 2 passes throught the coresponding \\feature in this image')\n",
    "plt.plot(P2[0],P2[1],'r*')\n",
    "plt.show()\n"
   ]
  },
  {
   "cell_type": "code",
   "execution_count": null,
   "metadata": {},
   "outputs": [],
   "source": []
  }
 ],
 "metadata": {
  "kernelspec": {
   "display_name": "Python 3",
   "language": "python",
   "name": "python3"
  },
  "language_info": {
   "codemirror_mode": {
    "name": "ipython",
    "version": 3
   },
   "file_extension": ".py",
   "mimetype": "text/x-python",
   "name": "python",
   "nbconvert_exporter": "python",
   "pygments_lexer": "ipython3",
   "version": "3.6.8"
  }
 },
 "nbformat": 4,
 "nbformat_minor": 2
}
