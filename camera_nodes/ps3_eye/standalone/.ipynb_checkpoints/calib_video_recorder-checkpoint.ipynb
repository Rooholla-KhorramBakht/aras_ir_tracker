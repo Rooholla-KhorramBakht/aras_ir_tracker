{
 "cells": [
  {
   "cell_type": "code",
   "execution_count": 1,
   "metadata": {
    "scrolled": true
   },
   "outputs": [
    {
     "name": "stdout",
     "output_type": "stream",
     "text": [
      "True\n",
      "True\n",
      "True\n",
      "True\n",
      "True\n",
      "True\n",
      "True\n",
      "True\n",
      "True\n"
     ]
    },
    {
     "ename": "KeyboardInterrupt",
     "evalue": "",
     "output_type": "error",
     "traceback": [
      "\u001b[0;31m---------------------------------------------------------------------------\u001b[0m",
      "\u001b[0;31mKeyboardInterrupt\u001b[0m                         Traceback (most recent call last)",
      "\u001b[0;32m<ipython-input-1-d83d7e877344>\u001b[0m in \u001b[0;36m<module>\u001b[0;34m\u001b[0m\n\u001b[1;32m     38\u001b[0m     \u001b[0mout2\u001b[0m\u001b[0;34m.\u001b[0m\u001b[0mwrite\u001b[0m\u001b[0;34m(\u001b[0m\u001b[0mframe2\u001b[0m\u001b[0;34m)\u001b[0m\u001b[0;34m\u001b[0m\u001b[0;34m\u001b[0m\u001b[0m\n\u001b[1;32m     39\u001b[0m     \u001b[0mout3\u001b[0m\u001b[0;34m.\u001b[0m\u001b[0mwrite\u001b[0m\u001b[0;34m(\u001b[0m\u001b[0mframe3\u001b[0m\u001b[0;34m)\u001b[0m\u001b[0;34m\u001b[0m\u001b[0;34m\u001b[0m\u001b[0m\n\u001b[0;32m---> 40\u001b[0;31m     \u001b[0mout_combined\u001b[0m\u001b[0;34m.\u001b[0m\u001b[0mwrite\u001b[0m\u001b[0;34m(\u001b[0m\u001b[0mframe\u001b[0m\u001b[0;34m)\u001b[0m\u001b[0;34m\u001b[0m\u001b[0;34m\u001b[0m\u001b[0m\n\u001b[0m\u001b[1;32m     41\u001b[0m     \u001b[0;32mif\u001b[0m \u001b[0mcv2\u001b[0m\u001b[0;34m.\u001b[0m\u001b[0mwaitKey\u001b[0m\u001b[0;34m(\u001b[0m\u001b[0;36m1\u001b[0m\u001b[0;34m)\u001b[0m \u001b[0;34m&\u001b[0m \u001b[0;36m0xFF\u001b[0m \u001b[0;34m==\u001b[0m \u001b[0mord\u001b[0m\u001b[0;34m(\u001b[0m\u001b[0;34m'q'\u001b[0m\u001b[0;34m)\u001b[0m\u001b[0;34m:\u001b[0m\u001b[0;34m\u001b[0m\u001b[0;34m\u001b[0m\u001b[0m\n\u001b[1;32m     42\u001b[0m                 \u001b[0;32mbreak\u001b[0m\u001b[0;34m\u001b[0m\u001b[0;34m\u001b[0m\u001b[0m\n",
      "\u001b[0;31mKeyboardInterrupt\u001b[0m: "
     ]
    }
   ],
   "source": [
    "import cv2\n",
    "import numpy as np\n",
    "cam1 = cv2.VideoCapture(0)\n",
    "cam2 = cv2.VideoCapture(1)\n",
    "cam3 = cv2.VideoCapture(2)\n",
    "\n",
    "fps = 50\n",
    "fourcc = cv2.VideoWriter_fourcc(*'XVID')\n",
    "out1 = cv2.VideoWriter('output1.avi', fourcc, fps, (int(cam1.get(3)),int(cam1.get(4))))\n",
    "out2 = cv2.VideoWriter('output2.avi', fourcc, fps, (int(cam2.get(3)),int(cam2.get(4))))\n",
    "out3 = cv2.VideoWriter('output3.avi', fourcc, fps, (int(cam3.get(3)),int(cam3.get(4))))\n",
    "\n",
    "out_combined = cv2.VideoWriter('output_combined.avi', fourcc, fps, (640*3,480))\n",
    "print(cam1.set(cv2.CAP_PROP_FRAME_WIDTH, 640))\n",
    "print(cam1.set(cv2.CAP_PROP_FRAME_HEIGHT, 480))\n",
    "print(cam1.set(cv2.CAP_PROP_FPS, fps))\n",
    "\n",
    "print(cam2.set(cv2.CAP_PROP_FRAME_WIDTH, 640))\n",
    "print(cam2.set(cv2.CAP_PROP_FRAME_HEIGHT, 480))\n",
    "print(cam2.set(cv2.CAP_PROP_FPS, fps))\n",
    "\n",
    "print(cam3.set(cv2.CAP_PROP_FRAME_WIDTH, 640))\n",
    "print(cam3.set(cv2.CAP_PROP_FRAME_HEIGHT, 480))\n",
    "print(cam3.set(cv2.CAP_PROP_FPS, fps))\n",
    "cam1.set(cv2.CAP_PROP_BUFFERSIZE,1)\n",
    "cam2.set(cv2.CAP_PROP_BUFFERSIZE,1)\n",
    "cam3.set(cv2.CAP_PROP_BUFFERSIZE,1)\n",
    "while True:\n",
    "    cam1.grab()\n",
    "    cam2.grab()\n",
    "    cam3.grab()\n",
    "    ret1, frame1 = cam1.read()\n",
    "    ret2, frame2 = cam2.read()\n",
    "    ret3, frame3 = cam3.read()\n",
    "    frame = np.hstack([frame1, frame2, frame3])\n",
    "    cv2.imshow('t', frame)\n",
    "    out1.write(frame1)\n",
    "    out2.write(frame2)\n",
    "    out3.write(frame3)\n",
    "    out_combined.write(frame)\n",
    "    if cv2.waitKey(1) & 0xFF == ord('q'):\n",
    "                break\n",
    "out2.release()\n",
    "out3.release()\n",
    "out1.release()\n",
    "cam2.release()\n",
    "cam1.release()\n",
    "cam3.release()\n",
    "out_combined.release()\n",
    "cv2.destroyAllWindows()     \n"
   ]
  },
  {
   "cell_type": "code",
   "execution_count": 2,
   "metadata": {},
   "outputs": [],
   "source": [
    "cap=cv2.VideoCapture('output_combined.avi')\n",
    "frame_counter=0;\n",
    "while cap.isOpened():\n",
    "    ret,img=cap.read()\n",
    "    if(img is not None):\n",
    "        frame_counter=frame_counter+1\n",
    "        cv2.imshow('Playback',img)\n",
    "        if cv2.waitKey(100) & 0xFF == ord('q'):\n",
    "            break\n",
    "        if frame_counter>2500:\n",
    "            break\n",
    "    else:\n",
    "            cv2.destroyAllWindows()     \n",
    "            cap.release()\n",
    "cv2.destroyAllWindows()     \n",
    "cap.release()"
   ]
  },
  {
   "cell_type": "code",
   "execution_count": 1,
   "metadata": {},
   "outputs": [
    {
     "name": "stdout",
     "output_type": "stream",
     "text": [
      "True\n",
      "True\n",
      "True\n"
     ]
    },
    {
     "ename": "NameError",
     "evalue": "name 'frame1' is not defined",
     "output_type": "error",
     "traceback": [
      "\u001b[0;31m---------------------------------------------------------------------------\u001b[0m",
      "\u001b[0;31mNameError\u001b[0m                                 Traceback (most recent call last)",
      "\u001b[0;32m<ipython-input-1-30b92e1c2a80>\u001b[0m in \u001b[0;36m<module>\u001b[0;34m\u001b[0m\n\u001b[1;32m     16\u001b[0m         \u001b[0;32mif\u001b[0m \u001b[0mcv2\u001b[0m\u001b[0;34m.\u001b[0m\u001b[0mwaitKey\u001b[0m\u001b[0;34m(\u001b[0m\u001b[0;36m1\u001b[0m\u001b[0;34m)\u001b[0m \u001b[0;34m&\u001b[0m \u001b[0;36m0xFF\u001b[0m \u001b[0;34m==\u001b[0m \u001b[0mord\u001b[0m\u001b[0;34m(\u001b[0m\u001b[0;34m'q'\u001b[0m\u001b[0;34m)\u001b[0m\u001b[0;34m:\u001b[0m\u001b[0;34m\u001b[0m\u001b[0;34m\u001b[0m\u001b[0m\n\u001b[1;32m     17\u001b[0m                     \u001b[0;32mbreak\u001b[0m\u001b[0;34m\u001b[0m\u001b[0;34m\u001b[0m\u001b[0m\n\u001b[0;32m---> 18\u001b[0;31m \u001b[0mrecord_video\u001b[0m\u001b[0;34m(\u001b[0m\u001b[0;36m0\u001b[0m\u001b[0;34m,\u001b[0m\u001b[0;34m'output1.avi'\u001b[0m\u001b[0;34m,\u001b[0m\u001b[0;36m50\u001b[0m\u001b[0;34m)\u001b[0m\u001b[0;34m\u001b[0m\u001b[0;34m\u001b[0m\u001b[0m\n\u001b[0m",
      "\u001b[0;32m<ipython-input-1-30b92e1c2a80>\u001b[0m in \u001b[0;36mrecord_video\u001b[0;34m(cap_device_id, output_path, fps)\u001b[0m\n\u001b[1;32m     13\u001b[0m         \u001b[0mret1\u001b[0m\u001b[0;34m,\u001b[0m \u001b[0mframe\u001b[0m \u001b[0;34m=\u001b[0m \u001b[0mcap_device\u001b[0m\u001b[0;34m.\u001b[0m\u001b[0mread\u001b[0m\u001b[0;34m(\u001b[0m\u001b[0;34m)\u001b[0m\u001b[0;34m\u001b[0m\u001b[0;34m\u001b[0m\u001b[0m\n\u001b[1;32m     14\u001b[0m         \u001b[0mcv2\u001b[0m\u001b[0;34m.\u001b[0m\u001b[0mimshow\u001b[0m\u001b[0;34m(\u001b[0m\u001b[0moutput_path\u001b[0m\u001b[0;34m,\u001b[0m \u001b[0mframe\u001b[0m\u001b[0;34m)\u001b[0m\u001b[0;34m\u001b[0m\u001b[0;34m\u001b[0m\u001b[0m\n\u001b[0;32m---> 15\u001b[0;31m         \u001b[0mout\u001b[0m\u001b[0;34m.\u001b[0m\u001b[0mwrite\u001b[0m\u001b[0;34m(\u001b[0m\u001b[0mframe1\u001b[0m\u001b[0;34m)\u001b[0m\u001b[0;34m\u001b[0m\u001b[0;34m\u001b[0m\u001b[0m\n\u001b[0m\u001b[1;32m     16\u001b[0m         \u001b[0;32mif\u001b[0m \u001b[0mcv2\u001b[0m\u001b[0;34m.\u001b[0m\u001b[0mwaitKey\u001b[0m\u001b[0;34m(\u001b[0m\u001b[0;36m1\u001b[0m\u001b[0;34m)\u001b[0m \u001b[0;34m&\u001b[0m \u001b[0;36m0xFF\u001b[0m \u001b[0;34m==\u001b[0m \u001b[0mord\u001b[0m\u001b[0;34m(\u001b[0m\u001b[0;34m'q'\u001b[0m\u001b[0;34m)\u001b[0m\u001b[0;34m:\u001b[0m\u001b[0;34m\u001b[0m\u001b[0;34m\u001b[0m\u001b[0m\n\u001b[1;32m     17\u001b[0m                     \u001b[0;32mbreak\u001b[0m\u001b[0;34m\u001b[0m\u001b[0;34m\u001b[0m\u001b[0m\n",
      "\u001b[0;31mNameError\u001b[0m: name 'frame1' is not defined"
     ]
    }
   ],
   "source": [
    "import cv2\n",
    "def record_video(cap_device_id,output_path,fps):\n",
    "    fourcc = cv2.VideoWriter_fourcc(*'XVID')\n",
    "    cap_device = cv2.VideoCapture(cap_device_id)\n",
    "    print(cap_device.set(cv2.CAP_PROP_FRAME_WIDTH, 640))\n",
    "    print(cap_device.set(cv2.CAP_PROP_FRAME_HEIGHT, 480))\n",
    "    print(cap_device.set(cv2.CAP_PROP_FPS, fps))\n",
    "    cap_device.set(cv2.CAP_PROP_BUFFERSIZE,1)\n",
    "\n",
    "    out = cv2.VideoWriter(output_path, fourcc, fps, (int(cap_device.get(3)),int(cap_device.get(4))))\n",
    "    while True:\n",
    "        cap_device.grab()\n",
    "        ret1, frame = cap_device.read()\n",
    "        cv2.imshow(output_path, frame)\n",
    "        out.write(frame)\n",
    "        if cv2.waitKey(1) & 0xFF == ord('q'):\n",
    "                    break\n",
    "record_video(0,'output1.avi',50)"
   ]
  },
  {
   "cell_type": "code",
   "execution_count": null,
   "metadata": {},
   "outputs": [],
   "source": []
  }
 ],
 "metadata": {
  "kernelspec": {
   "display_name": "Python 3",
   "language": "python3",
   "name": "python3"
  },
  "language_info": {
   "codemirror_mode": {
    "name": "ipython",
    "version": 3
   },
   "file_extension": ".py",
   "mimetype": "text/x-python",
   "name": "python",
   "nbconvert_exporter": "python",
   "pygments_lexer": "ipython3",
   "version": "3.6.9"
  },
  "latex_envs": {
   "LaTeX_envs_menu_present": true,
   "autoclose": false,
   "autocomplete": true,
   "bibliofile": "biblio.bib",
   "cite_by": "apalike",
   "current_citInitial": 1,
   "eqLabelWithNumbers": true,
   "eqNumInitial": 1,
   "hotkeys": {
    "equation": "Ctrl-E",
    "itemize": "Ctrl-I"
   },
   "labels_anchors": false,
   "latex_user_defs": false,
   "report_style_numbering": false,
   "user_envs_cfg": false
  },
  "toc": {
   "base_numbering": 1,
   "nav_menu": {},
   "number_sections": true,
   "sideBar": true,
   "skip_h1_title": false,
   "title_cell": "Table of Contents",
   "title_sidebar": "Contents",
   "toc_cell": false,
   "toc_position": {},
   "toc_section_display": true,
   "toc_window_display": false
  }
 },
 "nbformat": 4,
 "nbformat_minor": 2
}
