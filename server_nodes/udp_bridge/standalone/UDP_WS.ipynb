{
 "cells": [
  {
   "cell_type": "code",
   "execution_count": 23,
   "metadata": {},
   "outputs": [],
   "source": [
    "import socket\n",
    "import struct\n",
    "import numpy as np"
   ]
  },
  {
   "cell_type": "code",
   "execution_count": 3,
   "metadata": {},
   "outputs": [],
   "source": [
    "class udp_telemetry():\n",
    "    def __init__(self):\n",
    "        self.OUT_IP='192.168.1.3'\n",
    "        self.OUT_PORT=5000\n",
    "        self.INPUT_IP='127.0.0.1'\n",
    "        self.INPUT_PORT=5000\n",
    "        self.out_socket=socket.socket(socket.AF_INET,socket.SOCK_DGRAM)\n",
    "        self.RX_RUNNING = True\n",
    "\n",
    "    def transmit_data(self,markers_list):\n",
    "        num_frames=len(markers_list)\n",
    "        markers_per_frame = [markers.shape[0] for markers in markers_list]\n",
    "        msg_format=f'i{len(markers_per_frame)}i{2*sum(markers_per_frame)}d'\n",
    "        \n",
    "        marker_data=np.vstack(markers_list)\n",
    "        \n",
    "        arguments = [msg_format] + [num_frames] + markers_per_frame + marker_data.reshape(-1).tolist()\n",
    "        data=struct.pack(*arguments)\n",
    "        self.out_socket.sendto(data, (self.OUT_IP, self.OUT_PORT))\n",
    "    \n",
    "    def start_rx(self,callback):\n",
    "        self.in_sock = socket.socket(socket.AF_INET, # Internet\n",
    "                     socket.SOCK_DGRAM) # UDP\n",
    "        self.in_sock.bind((self.INPUT_IP, self.INPUT_PORT))\n",
    "        \n",
    "        while self.RX_RUNNING:\n",
    "            data = self.in_sock.recvmsg(4096)\n",
    "            num_of_frames=struct.unpack('i',data[0][0:4])[0]\n",
    "            markers_per_frame = struct.unpack(f'{num_of_frames}i',data[0][4:4+4*num_of_frames])\n",
    "            total_number_of_markers = sum(markers_per_frame)\n",
    "            msg_format=f'i{len(markers_per_frame)}i{2*sum(markers_per_frame)}d'    \n",
    "            unpacked=struct.unpack(msg_format,data[0])\n",
    "            all_markers = np.array(unpacked[(-2*sum(markers_per_frame)):]).reshape(-1,2)\n",
    "            markers_in_frames=np.split(all_markers, markers_per_frame)\n",
    "            stamp = time.time()\n",
    "            callback(stamp, self.INPUT_PORT, markers_in_frames)\n",
    "    def terminate(self):\n",
    "        self.RX_RUNNING = False\n",
    "        in_sock.close()\n",
    "        out_sock.close()"
   ]
  },
  {
   "cell_type": "code",
   "execution_count": 4,
   "metadata": {},
   "outputs": [
    {
     "name": "stdout",
     "output_type": "stream",
     "text": [
      "5000\n",
      "5000\n",
      "5000\n",
      "5000\n",
      "5000\n",
      "5000\n",
      "5000\n",
      "5000\n",
      "5000\n",
      "5000\n",
      "5000\n",
      "5000\n",
      "5000\n",
      "5000\n",
      "5000\n",
      "5000\n"
     ]
    },
    {
     "ename": "SystemExit",
     "evalue": "",
     "output_type": "error",
     "traceback": [
      "An exception has occurred, use %tb to see the full traceback.\n",
      "\u001b[0;31mSystemExit\u001b[0m\n"
     ]
    },
    {
     "name": "stderr",
     "output_type": "stream",
     "text": [
      "/home/rouholla/myData/.virtualenvs/torch_1.6/lib/python3.6/site-packages/IPython/core/interactiveshell.py:3351: UserWarning: To exit: use 'exit', 'quit', or Ctrl-D.\n",
      "  warn(\"To exit: use 'exit', 'quit', or Ctrl-D.\", stacklevel=1)\n"
     ]
    }
   ],
   "source": [
    "import os\n",
    "import time\n",
    "import signal\n",
    "import sys\n",
    "\n",
    "def callback(stamp, port, markers_in_frames):\n",
    "    print(port)\n",
    "    \n",
    "def termination_handling(signum,frame):\n",
    "    for tele in tele1:\n",
    "        tele.RX_RUNNING = False \n",
    "    sys.exit()\n",
    "signal.signal(signal.SIGINT, termination_handling)\n",
    "\n",
    "tele_objects = [udp_telemetry()]\n",
    "\n",
    "for tele in tele_objects:\n",
    "    tele.start_rx(callback) \n"
   ]
  },
  {
   "cell_type": "code",
   "execution_count": 3,
   "metadata": {},
   "outputs": [],
   "source": [
    "import threading\n",
    "f=threading.Thread()"
   ]
  },
  {
   "cell_type": "code",
   "execution_count": 22,
   "metadata": {},
   "outputs": [
    {
     "data": {
      "text/plain": [
       "'2021-05-23-03:27:43'"
      ]
     },
     "execution_count": 22,
     "metadata": {},
     "output_type": "execute_result"
    }
   ],
   "source": [
    "import time\n",
    "timetup = time.localtime()\n",
    "time.strftime('%Y-%m-%d-%H:%M:%S', timetup)"
   ]
  },
  {
   "cell_type": "code",
   "execution_count": 15,
   "metadata": {},
   "outputs": [
    {
     "ename": "ModuleNotFoundError",
     "evalue": "No module named 'datatime'",
     "output_type": "error",
     "traceback": [
      "\u001b[0;31m---------------------------------------------------------------------------\u001b[0m",
      "\u001b[0;31mModuleNotFoundError\u001b[0m                       Traceback (most recent call last)",
      "\u001b[0;32m<ipython-input-15-347fcf16cf34>\u001b[0m in \u001b[0;36m<module>\u001b[0;34m\u001b[0m\n\u001b[0;32m----> 1\u001b[0;31m \u001b[0;32mimport\u001b[0m \u001b[0mdatatime\u001b[0m\u001b[0;34m\u001b[0m\u001b[0;34m\u001b[0m\u001b[0m\n\u001b[0m",
      "\u001b[0;31mModuleNotFoundError\u001b[0m: No module named 'datatime'"
     ]
    }
   ],
   "source": [
    "import datatime"
   ]
  },
  {
   "cell_type": "code",
   "execution_count": null,
   "metadata": {},
   "outputs": [],
   "source": [
    "np.split()"
   ]
  }
 ],
 "metadata": {
  "kernelspec": {
   "display_name": "Python 3",
   "language": "python3",
   "name": "python3"
  },
  "language_info": {
   "codemirror_mode": {
    "name": "ipython",
    "version": 3
   },
   "file_extension": ".py",
   "mimetype": "text/x-python",
   "name": "python",
   "nbconvert_exporter": "python",
   "pygments_lexer": "ipython3",
   "version": "3.6.9"
  }
 },
 "nbformat": 4,
 "nbformat_minor": 4
}
